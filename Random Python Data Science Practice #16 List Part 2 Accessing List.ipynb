{
 "cells": [
  {
   "cell_type": "markdown",
   "metadata": {},
   "source": [
    "## Random Python Data Science Practice #16"
   ]
  },
  {
   "cell_type": "markdown",
   "metadata": {},
   "source": [
    "## List Part 2 Accessing List"
   ]
  },
  {
   "cell_type": "code",
   "execution_count": 1,
   "metadata": {},
   "outputs": [
    {
     "name": "stdout",
     "output_type": "stream",
     "text": [
      "['Car', 'Motorcycle', 'Bycycle', 'Plane', 'Ship', 'Cano', 'Train', 'Truck', 'Jet', 'Helicopter']\n"
     ]
    }
   ],
   "source": [
    "# Create list\n",
    "vehicle_list = ['Car', 'Motorcycle', 'Bycycle', 'Plane', 'Ship', 'Cano', 'Train', 'Truck', 'Jet', 'Helicopter'] # --> List use []\n",
    "print(vehicle_list)"
   ]
  },
  {
   "cell_type": "markdown",
   "metadata": {},
   "source": [
    "## Access list"
   ]
  },
  {
   "cell_type": "code",
   "execution_count": 8,
   "metadata": {},
   "outputs": [
    {
     "name": "stdout",
     "output_type": "stream",
     "text": [
      "Access list from start until index 7 (0 - 7) ['Car', 'Motorcycle', 'Bycycle', 'Plane', 'Ship', 'Cano', 'Train']\n",
      "Access list from index 7 until end (7 - 10) ['Truck', 'Jet', 'Helicopter']\n",
      "Access list from start until end but every 2 sub-list  (0, 2, 4, 6, 8, 10) ['Car', 'Bycycle', 'Ship', 'Train', 'Jet']\n"
     ]
    }
   ],
   "source": [
    "print('Access list from start until index 7 (0 - 7)', vehicle_list[:7])\n",
    "print('Access list from index 7 until end (7 - 10)', vehicle_list[7:])\n",
    "print('Access list from start until end but every 2 sub-list  (0, 2, 4, 6, 8, 10)', vehicle_list[0:10:2])"
   ]
  },
  {
   "cell_type": "code",
   "execution_count": null,
   "metadata": {},
   "outputs": [],
   "source": []
  }
 ],
 "metadata": {
  "kernelspec": {
   "display_name": "Python 3",
   "language": "python",
   "name": "python3"
  },
  "language_info": {
   "codemirror_mode": {
    "name": "ipython",
    "version": 3
   },
   "file_extension": ".py",
   "mimetype": "text/x-python",
   "name": "python",
   "nbconvert_exporter": "python",
   "pygments_lexer": "ipython3",
   "version": "3.8.5"
  }
 },
 "nbformat": 4,
 "nbformat_minor": 4
}
